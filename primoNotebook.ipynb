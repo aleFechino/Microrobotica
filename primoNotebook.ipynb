{
 "cells": [
  {
   "cell_type": "markdown",
   "id": "353a8e57-2a15-4503-ab44-e00fb4fdeb66",
   "metadata": {},
   "source": [
    "# Questo è il nostro primo notebook\n",
    "In questo notebook vedremo le nozioni base\n",
    "\n",
    "Questa cella è scritta in *MarkDown*. Ecco un esempio di **grassetto**"
   ]
  },
  {
   "cell_type": "code",
   "execution_count": 3,
   "id": "1297015c-713c-4c6e-a572-3e8a25724901",
   "metadata": {
    "scrolled": true
   },
   "outputs": [
    {
     "ename": "SyntaxError",
     "evalue": "invalid syntax (888095297.py, line 1)",
     "output_type": "error",
     "traceback": [
      "\u001b[1;36m  Cell \u001b[1;32mIn[3], line 1\u001b[1;36m\u001b[0m\n\u001b[1;33m    In *MarkDown* è semplice scrivere equazioni, per esempio:\u001b[0m\n\u001b[1;37m                    ^\u001b[0m\n\u001b[1;31mSyntaxError\u001b[0m\u001b[1;31m:\u001b[0m invalid syntax\n"
     ]
    }
   ],
   "source": [
    "In *MarkDown* è semplice scrivere equazioni, per esempio:\n",
    "\n",
    "f(x)=sin(x)"
   ]
  },
  {
   "cell_type": "code",
   "execution_count": 3,
   "id": "95cf1216-82df-4857-86e5-5e648d13720c",
   "metadata": {},
   "outputs": [
    {
     "data": {
      "text/plain": [
       "5"
      ]
     },
     "execution_count": 3,
     "metadata": {},
     "output_type": "execute_result"
    }
   ],
   "source": [
    "2+3"
   ]
  },
  {
   "cell_type": "code",
   "execution_count": 4,
   "id": "e0436a4d-c9a0-4879-9708-c6e871dc8745",
   "metadata": {},
   "outputs": [
    {
     "name": "stdout",
     "output_type": "stream",
     "text": [
      "2\n"
     ]
    }
   ],
   "source": [
    "l=[1,2,3]\n",
    "print(l[1])"
   ]
  },
  {
   "cell_type": "markdown",
   "id": "1c98e1ed-09fe-43cf-921b-f8b7c075a326",
   "metadata": {},
   "source": [
    "#Pericoli nell'uso dei notebook⚠️"
   ]
  },
  {
   "cell_type": "code",
   "execution_count": 1,
   "id": "f7ac87d3-41b5-4c3d-8fe6-2ba234312d65",
   "metadata": {},
   "outputs": [
    {
     "ename": "NameError",
     "evalue": "name 'a' is not defined",
     "output_type": "error",
     "traceback": [
      "\u001b[1;31m---------------------------------------------------------------------------\u001b[0m",
      "\u001b[1;31mNameError\u001b[0m                                 Traceback (most recent call last)",
      "Cell \u001b[1;32mIn[1], line 1\u001b[0m\n\u001b[1;32m----> 1\u001b[0m a\n",
      "\u001b[1;31mNameError\u001b[0m: name 'a' is not defined"
     ]
    }
   ],
   "source": [
    "a"
   ]
  },
  {
   "cell_type": "markdown",
   "id": "721c146e-6cf2-409a-a557-4f651e648bf7",
   "metadata": {},
   "source": [
    "Ripasso vario su Python"
   ]
  },
  {
   "cell_type": "markdown",
   "id": "b7698dc3-9d1f-4ce4-a5a9-6943016ce053",
   "metadata": {},
   "source": [
    "1) Generare una stringa di testo casuale di lunghezza assegnata. La stringa può contenere lettere, numeri, spazi,simboli di punteggiatura"
   ]
  },
  {
   "cell_type": "code",
   "execution_count": 9,
   "id": "69d5839b-7c78-4688-afcc-ad6b2f4186fb",
   "metadata": {},
   "outputs": [],
   "source": [
    "import random"
   ]
  },
  {
   "cell_type": "code",
   "execution_count": 17,
   "id": "8c424e99-9ff0-4474-8018-e0b2c45828a1",
   "metadata": {},
   "outputs": [
    {
     "data": {
      "text/plain": [
       "\u001b[1;31mSignature:\u001b[0m \u001b[0mchr\u001b[0m\u001b[1;33m(\u001b[0m\u001b[0mi\u001b[0m\u001b[1;33m,\u001b[0m \u001b[1;33m/\u001b[0m\u001b[1;33m)\u001b[0m\u001b[1;33m\u001b[0m\u001b[1;33m\u001b[0m\u001b[0m\n",
       "\u001b[1;31mDocstring:\u001b[0m Return a Unicode string of one character with ordinal i; 0 <= i <= 0x10ffff.\n",
       "\u001b[1;31mType:\u001b[0m      builtin_function_or_method"
      ]
     },
     "metadata": {},
     "output_type": "display_data"
    }
   ],
   "source": [
    "#come chiedere cosa fa una funzione\n",
    "chr?"
   ]
  },
  {
   "cell_type": "code",
   "execution_count": 22,
   "id": "6b10d6be-b011-4a3e-b9ae-4dc1b5233b09",
   "metadata": {},
   "outputs": [
    {
     "name": "stdout",
     "output_type": "stream",
     "text": [
      "Î×Eð«dÓYÙ­,G)Ñ\u001e",
      "Ö\n"
     ]
    }
   ],
   "source": [
    "lenght=20\n",
    "#il metodo join() è un metodo delle stringhe! Però vuole come parametro una lista di stringhe\n",
    "#concatena gli elementi della lista con in mezzo la parola prima del join\n",
    "string=\"\".join([chr(random.randint(0,255)) for _ in range(lenght)])\n",
    "print(string)"
   ]
  },
  {
   "cell_type": "code",
   "execution_count": 24,
   "id": "c19ecdda-519e-4350-9753-0bf4806e3667",
   "metadata": {},
   "outputs": [
    {
     "name": "stdout",
     "output_type": "stream",
     "text": [
      ".e07da.! pa8pur.51hd\n"
     ]
    }
   ],
   "source": [
    "#seleziono in una stringa/lista elementi che voglio\n",
    "chars=\"abcdefghilmnopqrstuv 0123456789.,;:-!?\"\n",
    "string=\"\".join([random.choice(chars) for _ in range(lenght)])\n",
    "print(string)"
   ]
  },
  {
   "cell_type": "markdown",
   "id": "88c82645-f236-4bb6-98c9-834a55a4f903",
   "metadata": {},
   "source": [
    "## Ripasso cicli"
   ]
  },
  {
   "cell_type": "code",
   "execution_count": 8,
   "id": "cac15cb8-0018-492e-ba50-917b81a60fa0",
   "metadata": {},
   "outputs": [],
   "source": [
    "l1, l2=[1,2,3,4], [\"a\",\"b\", \"c\", \"d\"]"
   ]
  },
  {
   "cell_type": "code",
   "execution_count": 9,
   "id": "271621e0-1f46-4bb8-9c6a-14198fddee22",
   "metadata": {},
   "outputs": [
    {
     "name": "stdout",
     "output_type": "stream",
     "text": [
      "1 a\n",
      "2 b\n",
      "3 c\n",
      "4 d\n"
     ]
    }
   ],
   "source": [
    "for v1, v2 in zip(l1,l2):  #zip permette di fare un ciclo in parallelo su due liste, se hanno lunghezze differenze cicla fino alla fine di quella più piccola\n",
    "    print(v1,v2)"
   ]
  },
  {
   "cell_type": "code",
   "execution_count": 10,
   "id": "c98c0f8b-322c-49df-8683-10dc731fed5e",
   "metadata": {},
   "outputs": [],
   "source": [
    "import random"
   ]
  },
  {
   "cell_type": "code",
   "execution_count": 14,
   "id": "d9b99964-6e64-41cb-b256-ebcf2ce14918",
   "metadata": {},
   "outputs": [
    {
     "name": "stdout",
     "output_type": "stream",
     "text": [
      "{0: 'sapvbnftsztnqqzasndo', 1: 'opvqeufcrinhfhaodssb', 2: 'plnnnmqqzihqltdruavb', 3: 'sogihiodqnznoeezzmzv', 4: 'hvdtrfcigsgmhosmhhom'}\n"
     ]
    }
   ],
   "source": [
    "lettere=\"abcdefghilmnopqrstuvz\"\n",
    "#.join() è un metodo delle stringhe\n",
    "d={i:\"\".join(random.choices(lettere, k=20)) for i in range(5)}  #si da una stringa e poi il valore di quante lettere prendere a caso ,restituisce una lista)\n",
    "print(d)"
   ]
  },
  {
   "cell_type": "code",
   "execution_count": 15,
   "id": "1c633c64-f740-441c-a64e-9cb128827cb4",
   "metadata": {},
   "outputs": [],
   "source": [
    "def findchar(text, char):\n",
    "    '''\n",
    "    la funzione ritorna True se char è presente in text,\n",
    "    False altrimenti\n",
    "    '''\n",
    "    return char in text"
   ]
  },
  {
   "cell_type": "code",
   "execution_count": 18,
   "id": "e3674712-956d-4f2e-b336-6edbf80afdf4",
   "metadata": {},
   "outputs": [
    {
     "data": {
      "text/plain": [
       "True"
      ]
     },
     "execution_count": 18,
     "metadata": {},
     "output_type": "execute_result"
    }
   ],
   "source": [
    "findchar(\"ciao\", \"o\")"
   ]
  },
  {
   "cell_type": "code",
   "execution_count": 19,
   "id": "3c85cbc2-f6e4-4cf6-8d89-e74172a714ca",
   "metadata": {},
   "outputs": [],
   "source": [
    "#metodo veloce di scrivere una funzione\n",
    "#nome funzione           parametri    return\n",
    "findchar       = lambda text, char: char in text"
   ]
  },
  {
   "cell_type": "code",
   "execution_count": 23,
   "id": "7519610b-8076-476c-80df-5e980a24a404",
   "metadata": {},
   "outputs": [
    {
     "data": {
      "text/plain": [
       "{0: True, 1: True, 2: True, 3: False, 4: False}"
      ]
     },
     "execution_count": 23,
     "metadata": {},
     "output_type": "execute_result"
    }
   ],
   "source": [
    "#    elemento del diz     iterazione per ottenerlo\n",
    "d_a={i:findchar(d[i],\"a\") for i in d}\n",
    "d_a"
   ]
  },
  {
   "cell_type": "markdown",
   "id": "69e80869-25f3-4965-82af-63e5393a10c4",
   "metadata": {},
   "source": [
    "## In python tutto è un oggetto, anche le funzione"
   ]
  },
  {
   "cell_type": "code",
   "execution_count": 29,
   "id": "f137d924-2f0e-4ec8-9d9c-e6b570ffaa22",
   "metadata": {},
   "outputs": [
    {
     "data": {
      "text/plain": [
       "{'+': <function __main__.<lambda>(a, b)>,\n",
       " '*': <function __main__.<lambda>(a, b)>}"
      ]
     },
     "execution_count": 29,
     "metadata": {},
     "output_type": "execute_result"
    }
   ],
   "source": [
    "somma= lambda a,b: a+b\n",
    "prodotto =lambda a,b: a*b\n",
    "operazioni={\"+\": somma, \"*\": prodotto}\n",
    "operazioni"
   ]
  },
  {
   "cell_type": "code",
   "execution_count": 30,
   "id": "30bd50c8-bd04-422d-9f84-b04355591f82",
   "metadata": {},
   "outputs": [
    {
     "name": "stdin",
     "output_type": "stream",
     "text": [
      "Inserisci + per la somma, * per il prodotto:  *\n",
      "Inserisci il primo numero:  9\n",
      "Inserisci il secondo numero:  2\n"
     ]
    }
   ],
   "source": [
    "op= input(\"Inserisci + per la somma, * per il prodotto: \")\n",
    "a=float(input(\"Inserisci il primo numero: \"))\n",
    "b=float(input(\"Inserisci il secondo numero: \"))\n",
    "\n",
    "if op in operazioni:\n",
    "    print(operazioni[op](a,b))\n",
    "else:\n",
    "    print(\"Operazine non valida\")"
   ]
  },
  {
   "cell_type": "code",
   "execution_count": 31,
   "id": "73abc7db-fdbc-4310-b65c-cddc62f34c1d",
   "metadata": {},
   "outputs": [
    {
     "data": {
      "text/plain": [
       "[0, 3, 6, 9]"
      ]
     },
     "execution_count": 31,
     "metadata": {},
     "output_type": "execute_result"
    }
   ],
   "source": [
    "l=list(range(10))\n",
    "l[::3]"
   ]
  },
  {
   "cell_type": "code",
   "execution_count": 32,
   "id": "7d02ce07-97a8-4d82-964d-dd2d4ec3c2f6",
   "metadata": {},
   "outputs": [
    {
     "data": {
      "text/plain": [
       "[9, 6, 3, 0]"
      ]
     },
     "execution_count": 32,
     "metadata": {},
     "output_type": "execute_result"
    }
   ],
   "source": [
    "l[::-3]"
   ]
  },
  {
   "cell_type": "code",
   "execution_count": null,
   "id": "9eb82eef-ce7b-489f-af09-cbabddaee6b1",
   "metadata": {},
   "outputs": [],
   "source": []
  }
 ],
 "metadata": {
  "kernelspec": {
   "display_name": "Python [conda env:base] *",
   "language": "python",
   "name": "conda-base-py"
  },
  "language_info": {
   "codemirror_mode": {
    "name": "ipython",
    "version": 3
   },
   "file_extension": ".py",
   "mimetype": "text/x-python",
   "name": "python",
   "nbconvert_exporter": "python",
   "pygments_lexer": "ipython3",
   "version": "3.13.5"
  }
 },
 "nbformat": 4,
 "nbformat_minor": 5
}
