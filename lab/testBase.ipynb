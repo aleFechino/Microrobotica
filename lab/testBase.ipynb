{
 "cells": [
  {
   "cell_type": "markdown",
   "id": "1bda5073-d9d5-4239-97f8-9d573c315517",
   "metadata": {},
   "source": [
    "1. Scrivi un programma che legga un numero da input e stampi se è pari o dispari."
   ]
  },
  {
   "cell_type": "code",
   "execution_count": 18,
   "id": "a0ef174c-51b6-45e5-9c61-065072a771c4",
   "metadata": {},
   "outputs": [
    {
     "name": "stdin",
     "output_type": "stream",
     "text": [
      "Inserisci un numero:  4\n"
     ]
    },
    {
     "name": "stdout",
     "output_type": "stream",
     "text": [
      "numero pari\n"
     ]
    }
   ],
   "source": [
    "n=int(input(\"Inserisci un numero: \"))\n",
    "\n",
    "#if n%2==0:\n",
    "#    print(\"è pari\")\n",
    "#else:\n",
    "#    print(\"è dispari\")\n",
    "\n",
    "#oppure si scrive così\n",
    "print(f\"numero {\"pari\" if n%2==0 else \"dispari\"}\")"
   ]
  },
  {
   "cell_type": "markdown",
   "id": "23bd8aaf-7f3d-41b3-99bb-8cbf584d8407",
   "metadata": {},
   "source": [
    "2. Crea una list comprehension che, dato l’elenco nums = [1, 2, 3, 4, 5], produca la lista dei quadrati\n",
    "dei numeri dispari."
   ]
  },
  {
   "cell_type": "code",
   "execution_count": 6,
   "id": "4b2acd76-61c1-4697-bf19-f97b0bcb804a",
   "metadata": {},
   "outputs": [
    {
     "name": "stdout",
     "output_type": "stream",
     "text": [
      "[1, 9, 25]\n"
     ]
    }
   ],
   "source": [
    "nums=[1,2,3,4,5]\n",
    "q=[n**2 for n in nums if n%2==1]\n",
    "print(q)"
   ]
  },
  {
   "cell_type": "code",
   "execution_count": 21,
   "id": "481f544f-9fcf-4d08-af75-c841b9263f06",
   "metadata": {},
   "outputs": [],
   "source": [
    "import this    #sono consigli di un olandese, il tipo che ha creato python"
   ]
  },
  {
   "cell_type": "markdown",
   "id": "8ba6afc1-0148-4ab5-aa7b-c70557d7088f",
   "metadata": {},
   "source": [
    "3. Spiega la differenza tra shallow copy e deep copy in Python, fornendo un esempio."
   ]
  },
  {
   "cell_type": "markdown",
   "id": "5f8f4c70-1ed0-4dbb-968d-55038d01efdc",
   "metadata": {},
   "source": [
    "_shallow copy_: copia l'indirizzo dell'oggetto\n",
    "\n",
    "_deep copy_: copia effettivamente l'oggetto, quindi i valori"
   ]
  },
  {
   "cell_type": "code",
   "execution_count": 23,
   "id": "b62da94f-2d2f-448f-b1fe-62490983d932",
   "metadata": {},
   "outputs": [
    {
     "name": "stdout",
     "output_type": "stream",
     "text": [
      "[]\n"
     ]
    }
   ],
   "source": [
    "a=[1,2,3,4,5]\n",
    "b=a[-1:-1]  #sto dicendo di prendere gli elementi dalla posizione(compresa) esclusa quella posizione->quindi non prende alcun elemento\n",
    "print(b)"
   ]
  },
  {
   "cell_type": "markdown",
   "id": "7cd2e35d-e9dc-4196-87de-13bb790de152",
   "metadata": {},
   "source": [
    "4. Scrivi una funzione fattoriale(n) che calcoli il fattoriale di un numero in maniera ricorsiva."
   ]
  },
  {
   "cell_type": "code",
   "execution_count": 24,
   "id": "d173dad9-189a-4502-a2e2-0b18b7167c58",
   "metadata": {},
   "outputs": [
    {
     "name": "stdout",
     "output_type": "stream",
     "text": [
      "120\n"
     ]
    }
   ],
   "source": [
    "def fattoriale(n):\n",
    "    if n!=0:\n",
    "        if n==1:\n",
    "            return 1\n",
    "        else:\n",
    "            return n*fattoriale(n-1)\n",
    "\n",
    "fat=fattoriale(5)\n",
    "print(fat)"
   ]
  },
  {
   "cell_type": "code",
   "execution_count": null,
   "id": "d5f0112e-2beb-4cd8-9196-745b33944497",
   "metadata": {},
   "outputs": [],
   "source": []
  }
 ],
 "metadata": {
  "kernelspec": {
   "display_name": "Python [conda env:base] *",
   "language": "python",
   "name": "conda-base-py"
  },
  "language_info": {
   "codemirror_mode": {
    "name": "ipython",
    "version": 3
   },
   "file_extension": ".py",
   "mimetype": "text/x-python",
   "name": "python",
   "nbconvert_exporter": "python",
   "pygments_lexer": "ipython3",
   "version": "3.13.5"
  }
 },
 "nbformat": 4,
 "nbformat_minor": 5
}
