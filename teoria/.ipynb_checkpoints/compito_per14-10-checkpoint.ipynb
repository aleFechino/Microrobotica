{
 "cells": [
  {
   "cell_type": "markdown",
   "id": "3528fbe3-40be-441b-bb7a-4d0ed45659dc",
   "metadata": {},
   "source": [
    "## Compito per il 14/10\n",
    "### Esercizi pag.93"
   ]
  },
  {
   "cell_type": "code",
   "execution_count": 51,
   "id": "3c7c9da3-9994-4ba9-bee0-293ec26dbc2a",
   "metadata": {},
   "outputs": [],
   "source": [
    "import numpy as np\n",
    "import matplotlib.pyplot as plt"
   ]
  },
  {
   "cell_type": "markdown",
   "id": "d42a48bd-8abe-410d-8a72-59e32ecd8cd4",
   "metadata": {},
   "source": [
    "1. Crea una funzione che inventa un `ndarray` monodimensionale, cioè crei un array monodimensionale con gli stessi elementi dell'array di partenza in ordine inverso."
   ]
  },
  {
   "cell_type": "code",
   "execution_count": 24,
   "id": "5d3b737f-0f2b-4756-b0ff-798ef786f2fd",
   "metadata": {},
   "outputs": [
    {
     "name": "stdout",
     "output_type": "stream",
     "text": [
      "[0 1 2 3 4 5 6]\n"
     ]
    },
    {
     "data": {
      "text/plain": [
       "array([6, 5, 4, 3, 2, 1, 0])"
      ]
     },
     "execution_count": 24,
     "metadata": {},
     "output_type": "execute_result"
    }
   ],
   "source": [
    "ndarray= np.arange(7)\n",
    "def invertiArray(array):\n",
    "    return array[::-1]\n",
    "\n",
    "print(ndarray)\n",
    "invertiArray(ndarray)"
   ]
  },
  {
   "cell_type": "markdown",
   "id": "d4b3efac-2fff-4593-b4fe-c578924cbb16",
   "metadata": {},
   "source": [
    "2. Genera un array di numpy contenente i primi 100 numeri primi."
   ]
  },
  {
   "cell_type": "code",
   "execution_count": 30,
   "id": "9200d4db-b5ba-41ed-a93f-c98937984e78",
   "metadata": {},
   "outputs": [],
   "source": [
    "def calcoloNumPrimo(num):\n",
    "    nDivisori=0\n",
    "    if(num>1):\n",
    "        for i in range(1,num+1):\n",
    "            if num%i==0:\n",
    "                nDivisori+=1\n",
    "                \n",
    "    if nDivisori==2:\n",
    "        return True\n",
    "    else:\n",
    "        return False"
   ]
  },
  {
   "cell_type": "code",
   "execution_count": 31,
   "id": "aa8b3e3b-6eef-4288-8d3c-42ef1798679a",
   "metadata": {},
   "outputs": [],
   "source": [
    "def numPrimi_100():\n",
    "    arr=[]\n",
    "    num=2 #primo numero primo\n",
    "\n",
    "    while len(arr)<100:\n",
    "        if calcoloNumPrimo(num):\n",
    "            arr.append(num)\n",
    "\n",
    "        num+=1\n",
    "\n",
    "    return np.array(arr)"
   ]
  },
  {
   "cell_type": "code",
   "execution_count": 39,
   "id": "8571c812-e478-4007-8e84-023020ff7131",
   "metadata": {},
   "outputs": [
    {
     "name": "stdout",
     "output_type": "stream",
     "text": [
      "[  2   3   5   7  11  13  17  19  23  29  31  37  41  43  47  53  59  61\n",
      "  67  71  73  79  83  89  97 101 103 107 109 113 127 131 137 139 149 151\n",
      " 157 163 167 173 179 181 191 193 197 199 211 223 227 229 233 239 241 251\n",
      " 257 263 269 271 277 281 283 293 307 311 313 317 331 337 347 349 353 359\n",
      " 367 373 379 383 389 397 401 409 419 421 431 433 439 443 449 457 461 463\n",
      " 467 479 487 491 499 503 509 521 523 541]\n",
      "Lunghezza array: 100\n"
     ]
    }
   ],
   "source": [
    "print(f\"{numPrimi_100()}\")\n",
    "print(f\"Lunghezza array: {len(numPrimi_100())}\")"
   ]
  },
  {
   "cell_type": "markdown",
   "id": "6b097d29-09a3-4a0d-ad44-3b6515b2964e",
   "metadata": {},
   "source": [
    "6. Disegna una scacchiera 8x8 alternando 0 e 1 (la prima casella è uno 0)."
   ]
  },
  {
   "cell_type": "code",
   "execution_count": 58,
   "id": "85167932-190c-4d2d-b235-7cab9b3b072a",
   "metadata": {},
   "outputs": [
    {
     "data": {
      "text/plain": [
       "array([[0., 1., 0., 1., 0., 1., 0., 1.],\n",
       "       [1., 0., 1., 0., 1., 0., 1., 0.],\n",
       "       [0., 1., 0., 1., 0., 1., 0., 1.],\n",
       "       [1., 0., 1., 0., 1., 0., 1., 0.],\n",
       "       [0., 1., 0., 1., 0., 1., 0., 1.],\n",
       "       [1., 0., 1., 0., 1., 0., 1., 0.],\n",
       "       [0., 1., 0., 1., 0., 1., 0., 1.],\n",
       "       [1., 0., 1., 0., 1., 0., 1., 0.]])"
      ]
     },
     "execution_count": 58,
     "metadata": {},
     "output_type": "execute_result"
    }
   ],
   "source": [
    "array2d=np.ones((8,8))\n",
    "array2d[1::2,1::2]=0\n",
    "array2d[::2,::2]=0\n",
    "array2d"
   ]
  },
  {
   "cell_type": "code",
   "execution_count": 62,
   "id": "7ac51deb-a3b1-49f4-a5d5-57246e715a66",
   "metadata": {},
   "outputs": [
    {
     "data": {
      "text/plain": [
       "<matplotlib.image.AxesImage at 0x15fdc760910>"
      ]
     },
     "execution_count": 62,
     "metadata": {},
     "output_type": "execute_result"
    },
    {
     "data": {
      "image/png": "[encoded data removed]",
      "text/plain": [
       "<Figure size 640x480 with 1 Axes>"
      ]
     },
     "metadata": {},
     "output_type": "display_data"
    }
   ],
   "source": [
    "plt.imshow(array2d, cmap=\"Greys\")"
   ]
  },
  {
   "cell_type": "markdown",
   "id": "3930e219-0b00-4dd6-b966-6e4f011bb31f",
   "metadata": {},
   "source": [
    "7. Disegna un bersaglio 10x10: le cornici concentriche hanno valori crescenti verso il centro (quella più esterna ha valori pari a 1)."
   ]
  },
  {
   "cell_type": "code",
   "execution_count": 73,
   "id": "042587b4-28a9-4860-b78d-20e3daeb5017",
   "metadata": {},
   "outputs": [
    {
     "data": {
      "text/plain": [
       "array([[1., 1., 1., 1., 1., 1., 1., 1., 1., 1.],\n",
       "       [1., 2., 2., 2., 2., 2., 2., 2., 2., 1.],\n",
       "       [1., 2., 3., 3., 3., 3., 3., 3., 2., 1.],\n",
       "       [1., 2., 3., 4., 4., 4., 4., 3., 2., 1.],\n",
       "       [1., 2., 3., 4., 5., 5., 4., 3., 2., 1.],\n",
       "       [1., 2., 3., 4., 5., 5., 4., 3., 2., 1.],\n",
       "       [1., 2., 3., 4., 4., 4., 4., 3., 2., 1.],\n",
       "       [1., 2., 3., 3., 3., 3., 3., 3., 2., 1.],\n",
       "       [1., 2., 2., 2., 2., 2., 2., 2., 2., 1.],\n",
       "       [1., 1., 1., 1., 1., 1., 1., 1., 1., 1.]])"
      ]
     },
     "execution_count": 73,
     "metadata": {},
     "output_type": "execute_result"
    }
   ],
   "source": [
    "bersaglio=np.ones((10,10))\n",
    "indix=1\n",
    "\n",
    "while indix<=5:\n",
    "    bersaglio[indix:-indix,indix:-indix]=indix+1\n",
    "    indix+=1\n",
    "bersaglio"
   ]
  },
  {
   "cell_type": "code",
   "execution_count": 74,
   "id": "80542814-7ce9-4f14-90f8-3982389f3ee4",
   "metadata": {},
   "outputs": [
    {
     "data": {
      "text/plain": [
       "<matplotlib.image.AxesImage at 0x15fdc7f8690>"
      ]
     },
     "execution_count": 74,
     "metadata": {},
     "output_type": "execute_result"
    },
    {
     "data": {
      "image/png": "[encoded data removed]",
      "text/plain": [
       "<Figure size 640x480 with 1 Axes>"
      ]
     },
     "metadata": {},
     "output_type": "display_data"
    }
   ],
   "source": [
    "plt.imshow(bersaglio,\"Greys\")"
   ]
  },
  {
   "cell_type": "markdown",
   "id": "0aee16ee-b53e-4535-9ead-0aa7ebb955af",
   "metadata": {},
   "source": [
    "### Esercizi pag.107"
   ]
  },
  {
   "cell_type": "markdown",
   "id": "4f99e701-3b35-4dbc-9c49-5a19d8fb111c",
   "metadata": {},
   "source": [
    "3. Simula diecimila partite ciascuna da 1000 lanci di una moneta. In quante partite si riscontra almeno il 55% di croci sui 1000 lanci?"
   ]
  },
  {
   "cell_type": "code",
   "execution_count": 97,
   "id": "f4cca353-7ffc-4e9e-a71d-bf4948ae3e43",
   "metadata": {
    "scrolled": true
   },
   "outputs": [
    {
     "name": "stdout",
     "output_type": "stream",
     "text": [
      "Numero di partite con almeno il 55%: 6\n"
     ]
    }
   ],
   "source": [
    "totMatch=10000\n",
    "lanciMonForMatch=1000\n",
    "numMatch=0\n",
    "faceCoin=\"Croce\"\n",
    "perc=0\n",
    "\n",
    "for i in range(totMatch):\n",
    "    #array dei lanci\n",
    "    lanci=np.random.choice([\"Testa\",\"Croce\"],lanciMonForMatch,p=[0.5,0.5])\n",
    "    \n",
    "    #controllo e conto quante volte è uscita Croce\n",
    "    numVolte=np.count_nonzero(lanci==faceCoin)\n",
    "    \n",
    "    #calcolo percentuale e partite svolte\n",
    "    perc=numVolte/lanciMonForMatch*100\n",
    "    if perc>=55:\n",
    "        numMatch+=1\n",
    "\n",
    "print(f\"Numero di partite con almeno il 55%: {numMatch}\")"
   ]
  },
  {
   "cell_type": "code",
   "execution_count": null,
   "id": "f46becdd-9963-40da-81df-948608d48cd4",
   "metadata": {},
   "outputs": [],
   "source": []
  }
 ],
 "metadata": {
  "kernelspec": {
   "display_name": "Python [conda env:base] *",
   "language": "python",
   "name": "conda-base-py"
  },
  "language_info": {
   "codemirror_mode": {
    "name": "ipython",
    "version": 3
   },
   "file_extension": ".py",
   "mimetype": "text/x-python",
   "name": "python",
   "nbconvert_exporter": "python",
   "pygments_lexer": "ipython3",
   "version": "3.13.5"
  }
 },
 "nbformat": 4,
 "nbformat_minor": 5
}
