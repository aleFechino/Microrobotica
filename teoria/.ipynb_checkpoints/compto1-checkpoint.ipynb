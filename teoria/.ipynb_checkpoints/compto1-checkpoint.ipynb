{
 "cells": [
  {
   "cell_type": "markdown",
   "id": "e269f078-a92f-4190-ae0e-84d5226da707",
   "metadata": {},
   "source": [
    "## Compito\n",
    "* Cerco un testo letterario in formato .txt.\n",
    "* Leggo il file.\n",
    "* Creo un dizionario che ha come chiavi tutti i caratteri presenti nel file .txt e come valori la frequenza assoluta del carattere nel testo(conteggio della lettera).\n",
    "* Creo un dizionario che ha come chiavi tutti i caratteri presenti nel file .txt e come valori delle liste. La lista contiene tutti i caratteri successori della lettera usata come chiave. Va bene che la lista contenga doppioni"
   ]
  },
  {
   "cell_type": "code",
   "execution_count": 1,
   "id": "c28d1f36-5629-410b-8224-1d23b524989b",
   "metadata": {},
   "outputs": [
    {
     "name": "stdout",
     "output_type": "stream",
     "text": [
      "San Martino\n",
      "\n",
      "di GiosuÃ¨ Carducci\n",
      "\n",
      "\n",
      "\n",
      "La nebbia a gl'irti colli\n",
      "\n",
      "piovigginando sale,\n",
      "\n",
      "e sotto il maestrale\n",
      "\n",
      "urla e biancheggia il mar;\n",
      "\n",
      "\n",
      "\n",
      "ma per le vie del borgo\n",
      "\n",
      "dal ribollir de' tini\n",
      "\n",
      "va l'aspro odor de' vini\n",
      "\n",
      "l'anime a rallegrar.\n",
      "\n",
      "\n",
      "\n",
      "Gira su' cardi e sugli stecchi\n",
      "\n",
      "l'immonda rete; e sull'orto\n",
      "\n",
      "tutto bagnato rincorre\n",
      "\n",
      "il folletto del bimbo;\n",
      "\n",
      "\n",
      "\n",
      "ma da le cave e buie\n",
      "\n",
      "vie del borgo lontano\n",
      "\n",
      "s'ode a tratti il lontano\n",
      "\n",
      "squillo del vespertino.\n",
      "\n",
      "\n",
      "\n",
      "(dalle \"Rime Nuove\", 1887)\n"
     ]
    }
   ],
   "source": [
    "f=open(\"poesia_mattina.txt\",\"r\")\n",
    "#leggo il file txt\n",
    "line=f.readline()\n",
    "while line != \"\":\n",
    "    print(line)\n",
    "    line=f.readline()\n",
    "f.close()"
   ]
  },
  {
   "cell_type": "code",
   "execution_count": 1,
   "id": "fcd973d3-a7b6-45e9-9df5-9c9fdf1c6adf",
   "metadata": {},
   "outputs": [
    {
     "name": "stdout",
     "output_type": "stream",
     "text": [
      "{'S': 1, 'a': 35, 'n': 17, ' ': 59, 'M': 1, 'r': 25, 't': 21, 'i': 38, 'o': 32, '\\n': 23, 'd': 16, 'G': 2, 's': 12, 'u': 10, 'Ã': 1, '¨': 1, 'C': 1, 'c': 9, 'L': 1, 'e': 36, 'b': 10, 'g': 10, 'l': 35, \"'\": 9, 'p': 4, 'v': 8, ',': 2, 'm': 9, 'h': 2, ';': 3, '.': 2, 'f': 1, 'q': 1, '(': 1, '\"': 2, 'R': 1, 'N': 1, '1': 1, '8': 2, '7': 1, ')': 1}\n"
     ]
    }
   ],
   "source": [
    "#creo dizionario con le chiavi uguali ai caratteri\n",
    "f=open(\"poesia_mattina.txt\",\"r\")\n",
    "\n",
    "dizNum={}\n",
    "line=f.readline()\n",
    "while line != \"\":\n",
    "    lungList=len(line)\n",
    "    for i in range(lungList):\n",
    "        if line[i] in dizNum:\n",
    "            dizNum[line[i]]+=1\n",
    "        else:\n",
    "            dizNum[line[i]]=1\n",
    "    line=f.readline()\n",
    "f.close()\n",
    "print(dizNum)"
   ]
  },
  {
   "cell_type": "code",
   "execution_count": 10,
   "id": "91601990-660d-4bb9-a21e-df97cfce8dc4",
   "metadata": {},
   "outputs": [
    {
     "name": "stdout",
     "output_type": "stream",
     "text": [
      "{'S': ['an'], 'a': ['n ', 'rt', 'rd', ' n', ' a', ' g', 'nd', 'le', 'es', 'le', ' e', 'nc', ' i', 'r;', ' p', 'l ', ' l', 'sp', 'ni', ' r', 'll', 'r.', ' s', 'rd', ' r', 'gn', 'to', ' d', ' l', 've', 'no', ' t', 'tt', 'no', 'll'], 'n': [' M', 'o\\n', 'eb', 'an', 'do', 'ch', 'i\\n', 'i\\n', 'im', 'da', 'at', 'co', 'ta', 'o\\n', 'ta', 'o\\n', 'o.'], ' ': ['Ma', 'Gi', 'Ca', 'ne', 'a ', 'gl', 'co', 'sa', 'so', 'il', 'ma', 'e ', 'bi', 'il', 'ma', 'pe', 'le', 'vi', 'de', 'bo', 'ri', 'de', 'ti', \"l'\", 'od', 'de', 'vi', 'a ', 'ra', 'su', 'ca', 'e ', 'su', 'st', 're', 'e ', 'su', 'ba', 'ri', 'fo', 'de', 'bi', 'da', 'le', 'ca', 'e ', 'bu', 'de', 'bo', 'lo', 'a ', 'tr', 'il', 'lo', 'de', 've', '\"R', 'Nu', '18'], 'M': ['ar'], 'r': ['ti', 'du', 'ti', 'al', 'la', ';\\n', ' l', 'go', 'ib', ' d', 'o ', ' d', 'al', 'ar', '.\\n', 'a ', 'di', 'et', 'to', 'in', 're', 'e\\n', 'go', 'at', 'ti'], 't': ['in', 'i ', 'to', 'o ', 'ra', 'in', 'ec', 'e;', 'o\\n', 'ut', 'to', 'o ', 'o ', 'to', 'o ', 'an', 'ra', 'ti', 'i ', 'an', 'in'], 'i': ['no', ' G', 'os', '\\n', 'a ', 'rt', ' c', '\\n', 'ov', 'gg', 'na', 'l ', 'an', 'a ', 'l ', 'e ', 'bo', 'r ', 'ni', '\\n', 'ni', '\\n', 'me', 'ra', ' e', ' s', '\\n', 'mm', 'nc', 'l ', 'mb', 'e\\n', 'e ', ' i', 'l ', 'll', 'no', 'me'], 'o': ['\\n', 'su', 'll', 'vi', ' s', 'tt', ' i', 'rg', '\\n', 'll', ' o', 'do', 'r ', 'nd', 'rt', '\\n', ' b', ' r', 'rr', 'll', ' d', ';\\n', 'rg', ' l', 'nt', '\\n', 'de', 'nt', '\\n', ' d', '.\\n', 've'], 'd': ['i ', 'uc', 'o ', 'el', 'al', \"e'\", 'or', \"e'\", 'i ', 'a ', 'el', 'a ', 'el', 'e ', 'el', 'al'], 'G': ['io', 'ir'], 's': ['uÃ', 'al', 'ot', 'tr', 'pr', \"u'\", 'ug', 'te', 'ul', \"'o\", 'qu', 'pe'], 'u': ['Ã¨', 'cc', 'rl', \"' \", 'gl', 'll', 'tt', 'ie', 'il', 'ov'], 'Ã': ['¨ '], '¨': [' C'], 'C': ['ar'], 'c': ['ci', 'i\\n', 'ol', 'he', 'ar', 'ch', 'hi', 'or', 'av'], 'L': ['a '], 'e': ['bb', ',\\n', ' s', 'st', '\\n', ' b', 'gg', 'r ', ' v', ' d', 'l ', \"' \", \"' \", ' a', 'gr', ' s', 'cc', 'te', '; ', ' s', '\\n', 'tt', 'l ', ' c', ' e', ' b', '\\n', ' d', 'l ', ' a', 'l ', 'sp', 'rt', ' \"', ' N', '\",'], 'b': ['bi', 'ia', 'ia', 'or', 'ol', 'ag', 'im', 'o;', 'ui', 'or'], 'g': [\"l'\", 'gi', 'in', 'gi', 'ia', 'o\\n', 'ra', 'li', 'na', 'o '], 'l': [\"'i\", 'li', 'i\\n', 'e,', ' m', 'e\\n', 'a ', ' m', 'e ', ' b', ' r', 'li', 'ir', \"'a\", \"'a\", 'le', 'eg', 'i ', \"'i\", \"l'\", \"'o\", ' f', 'le', 'et', ' b', 'e ', ' b', 'on', ' l', 'on', 'lo', 'o ', ' v', 'le', 'e '], \"'\": ['ir', ' t', 'as', ' v', 'an', ' c', 'im', 'or', 'od'], 'p': ['io', 'er', 'ro', 'er'], 'v': ['ig', 'ie', 'a ', 'in', 'e ', 'ie', 'es', 'e\"'], ',': ['\\n', ' 1'], 'm': ['ae', 'ar', 'a ', 'e ', 'mo', 'on', 'bo', 'a ', 'e '], 'h': ['eg', 'i\\n'], ';': ['\\n', ' e', '\\n'], '.': ['\\n', '\\n'], 'f': ['ol'], 'q': ['ui'], '(': ['da'], '\"': ['Ri', ', '], 'R': ['im'], 'N': ['uo'], '1': ['88'], '8': ['87', '7)'], '7': [')']}\n"
     ]
    }
   ],
   "source": [
    "#creo dizionario con valore una lista dei successori delle chiavi\n",
    "f=open(\"poesia_mattina.txt\",\"r\")\n",
    "\n",
    "dizSuc={}\n",
    "line=f.readline()\n",
    "while line != \"\":\n",
    "    lungList=len(line)\n",
    "    for i in range(lungList):\n",
    "        if line[i] in dizSuc:\n",
    "            if i+2<=lungList:\n",
    "                lettere=line[i+1:i+3] #prendo i due caratteri successivi\n",
    "                dizSuc[line[i]].append(lettere)\n",
    "        else:\n",
    "            if i+2<=lungList:\n",
    "                lettere=line[i+1:i+3]\n",
    "                dizSuc[line[i]]=[lettere]\n",
    "    line=f.readline()\n",
    "f.close()\n",
    "print(dizSuc)"
   ]
  },
  {
   "cell_type": "markdown",
   "id": "dc70d4ce-ec55-415e-bfbf-455696d14785",
   "metadata": {},
   "source": [
    "chiedo in input l'utente una lettera inziale\n",
    "poi la uso per cercare nel dizionario e prendo il valore corrispondente, da ciò prendo una lettera a caso nella lista con .join e quella lettera esratta la uso per rifare la ricerca e così via per un tot di volte (che chiedo all'utente)\n",
    "\n",
    "PASSO SUCCESSIVO:(FAC)\n",
    "non prendo più solo più una lettera sola successiva ma ne prendo di più\n",
    "\n",
    "* chiedo all'utente una lettera iniziale e la lunghezza del testo\n",
    "* cerco nel dizionario la lettera iniziale e sorteggiare un carattere"
   ]
  },
  {
   "cell_type": "code",
   "execution_count": 19,
   "id": "7ba11a66-103a-4037-9334-7a8d9b7796a7",
   "metadata": {},
   "outputs": [],
   "source": [
    "import random"
   ]
  },
  {
   "cell_type": "code",
   "execution_count": 23,
   "id": "9cac674c-2675-4174-8ef9-f85b059d2b2a",
   "metadata": {},
   "outputs": [
    {
     "name": "stdin",
     "output_type": "stream",
     "text": [
      "Inserisci una lettera iniziale:  h\n",
      "Inserisci il numero di volte della ricerca:  6\n"
     ]
    },
    {
     "name": "stdout",
     "output_type": "stream",
     "text": [
      "eg ea gnlili\n"
     ]
    }
   ],
   "source": [
    "car=input(\"Inserisci una lettera iniziale: \")\n",
    "        \n",
    "if car in dizSuc:\n",
    "    num=int(input(\"Inserisci il numero di volte della ricerca: \"))\n",
    "    frase=\"\"\n",
    "    \n",
    "    for n in range(num):\n",
    "        letCasuali=random.choice(dizSuc[car])\n",
    "        frase=\"\".join([frase,letCasuali])\n",
    "        car=letCasuali[0]\n",
    "\n",
    "    print(frase)\n",
    "else:\n",
    "    print(\"Lettera non presente\")"
   ]
  },
  {
   "cell_type": "code",
   "execution_count": null,
   "id": "ffb74499-59aa-4050-8085-d7f5380d7f21",
   "metadata": {},
   "outputs": [],
   "source": []
  }
 ],
 "metadata": {
  "kernelspec": {
   "display_name": "Python [conda env:base] *",
   "language": "python",
   "name": "conda-base-py"
  },
  "language_info": {
   "codemirror_mode": {
    "name": "ipython",
    "version": 3
   },
   "file_extension": ".py",
   "mimetype": "text/x-python",
   "name": "python",
   "nbconvert_exporter": "python",
   "pygments_lexer": "ipython3",
   "version": "3.13.5"
  }
 },
 "nbformat": 4,
 "nbformat_minor": 5
}
