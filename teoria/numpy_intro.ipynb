{
 "cells": [
  {
   "cell_type": "code",
   "execution_count": 2,
   "id": "ca67dcea-5899-4e10-8a19-4543e408d626",
   "metadata": {},
   "outputs": [],
   "source": [
    "import numpy as np   #usiamo l'aias perchè è usato in tutto il mondo"
   ]
  },
  {
   "cell_type": "markdown",
   "id": "434eeaba-f511-4db2-aa25-adf247726432",
   "metadata": {},
   "source": [
    "# Gli array Numpy (`ndarray`)\n",
    "\n",
    "In NumPy  abbiamo nuovamente gli array molto simili agli array visti in C. --> quindi abbiamo di nuovo i tipi"
   ]
  },
  {
   "cell_type": "code",
   "execution_count": 3,
   "id": "4146b199-fd43-48d0-9d44-7d80e8b6aa6e",
   "metadata": {},
   "outputs": [
    {
     "data": {
      "text/plain": [
       "array([0, 0, 0, 0, 0], dtype=int32)"
      ]
     },
     "execution_count": 3,
     "metadata": {},
     "output_type": "execute_result"
    }
   ],
   "source": [
    "#esempio array di interi\n",
    "#np.zeros crea un array di zeri\n",
    "array_int=np.zeros(5, dtype=np.int32) #interi a 32 bit\n",
    "array_int"
   ]
  },
  {
   "cell_type": "code",
   "execution_count": 4,
   "id": "51ebb372-e3e5-41d1-ab00-e3b3ff12b174",
   "metadata": {},
   "outputs": [
    {
     "data": {
      "text/plain": [
       "array([0., 0., 0., 0., 0.])"
      ]
     },
     "execution_count": 4,
     "metadata": {},
     "output_type": "execute_result"
    }
   ],
   "source": [
    "#esempio array di float\n",
    "array_float=np.zeros(5, dtype=np.float64) #interi a 64 bit\n",
    "array_float"
   ]
  },
  {
   "cell_type": "code",
   "execution_count": 5,
   "id": "88760328-186c-462c-88e6-3606582fce85",
   "metadata": {},
   "outputs": [
    {
     "data": {
      "text/plain": [
       "array([0.+0.j, 0.+0.j, 0.+0.j, 0.+0.j, 0.+0.j])"
      ]
     },
     "execution_count": 5,
     "metadata": {},
     "output_type": "execute_result"
    }
   ],
   "source": [
    "#esempio array di compleax\n",
    "array_complex=np.zeros(5, dtype=np.complex128) #interi a 32 bit\n",
    "array_complex"
   ]
  },
  {
   "cell_type": "code",
   "execution_count": 6,
   "id": "f03482a6-d7e3-405d-8720-70c9a9e9bf6c",
   "metadata": {},
   "outputs": [
    {
     "data": {
      "text/plain": [
       "dtype('float64')"
      ]
     },
     "execution_count": 6,
     "metadata": {},
     "output_type": "execute_result"
    }
   ],
   "source": [
    "array_float.dtype  #per sapere che tipo è l'array"
   ]
  },
  {
   "cell_type": "code",
   "execution_count": 7,
   "id": "2e6b4c16-7414-44c5-b071-830c1ff75353",
   "metadata": {},
   "outputs": [
    {
     "data": {
      "text/plain": [
       "array([[0., 0., 0., 0., 0., 0., 0.],\n",
       "       [0., 0., 0., 0., 0., 0., 0.],\n",
       "       [0., 0., 0., 0., 0., 0., 0.],\n",
       "       [0., 0., 0., 0., 0., 0., 0.],\n",
       "       [0., 0., 0., 0., 0., 0., 0.]])"
      ]
     },
     "execution_count": 7,
     "metadata": {},
     "output_type": "execute_result"
    }
   ],
   "source": [
    "#esempio matrice di float\n",
    "matrix_float=np.zeros((5,7), dtype=np.float64) #interi a 32 bit\n",
    "matrix_float"
   ]
  },
  {
   "cell_type": "code",
   "execution_count": 8,
   "id": "4b3af781-975a-49be-b254-3d4d6b602fc2",
   "metadata": {},
   "outputs": [
    {
     "name": "stdout",
     "output_type": "stream",
     "text": [
      "La matrice occupa 280 bytes in memoria\n",
      "La matrice è di tipo float64\n",
      "La matrice ha dimensione: (5, 7)\n"
     ]
    }
   ],
   "source": [
    "print(f\"La matrice occupa {matrix_float.nbytes} bytes in memoria\")\n",
    "print(f\"La matrice è di tipo {matrix_float.dtype}\")\n",
    "print(f\"La matrice ha dimensione: {matrix_float.shape}\")    #shape mi fornisce la dimensione di matrice in un tupla(righe,colonne)\n",
    "                                                            #acsix[0] sono le righe, acsix[1] sono le colonne"
   ]
  },
  {
   "cell_type": "code",
   "execution_count": 9,
   "id": "1eed83a6-d516-49c9-99d7-86043b63d1af",
   "metadata": {},
   "outputs": [
    {
     "data": {
      "text/plain": [
       "array([1., 1., 1., 1., 1.])"
      ]
     },
     "execution_count": 9,
     "metadata": {},
     "output_type": "execute_result"
    }
   ],
   "source": [
    "array_int_new=array_int +1.  #BROADCASTING-> va creare un nuovo array \n",
    "array_int_new"
   ]
  },
  {
   "cell_type": "code",
   "execution_count": 10,
   "id": "c372ecbd-8f92-4067-a57f-073528f838a3",
   "metadata": {},
   "outputs": [
    {
     "data": {
      "text/plain": [
       "dtype('float64')"
      ]
     },
     "execution_count": 10,
     "metadata": {},
     "output_type": "execute_result"
    }
   ],
   "source": [
    "array_int_new.dtype"
   ]
  },
  {
   "cell_type": "code",
   "execution_count": 11,
   "id": "f16adc16-2350-4747-9970-7849d0f09d1c",
   "metadata": {},
   "outputs": [
    {
     "data": {
      "text/plain": [
       "array([ 3., -3.])"
      ]
     },
     "execution_count": 11,
     "metadata": {},
     "output_type": "execute_result"
    }
   ],
   "source": [
    "v1=np.array([1.,2.])\n",
    "v2=np.array([2.,-5.])\n",
    "v1+v2\n",
    "\n",
    "#numpy tratta gli array come oggetti matematici, come se fossero dei vettori"
   ]
  },
  {
   "cell_type": "markdown",
   "id": "21443946-ebe6-4e79-ae44-6803749706ce",
   "metadata": {},
   "source": [
    "`np.random.uniform(a,b,shape)` genera un array fi forma `shape` con valori pseudo-casuali compresi tra `a` e `b`"
   ]
  },
  {
   "cell_type": "code",
   "execution_count": 12,
   "id": "a9c080b5-9b36-4c3b-9fbb-f3e3764c4a0a",
   "metadata": {},
   "outputs": [
    {
     "data": {
      "text/plain": [
       "array([0.50780224, 0.00574299, 0.55208614, ..., 0.75259843, 0.77774256,\n",
       "       0.68377938])"
      ]
     },
     "execution_count": 12,
     "metadata": {},
     "output_type": "execute_result"
    }
   ],
   "source": [
    "array_random=np.random.uniform(0.,1., (10000000))\n",
    "array_random"
   ]
  },
  {
   "cell_type": "code",
   "execution_count": 13,
   "id": "46d2e7ac-8b9e-475e-8d28-4b384bc0acc4",
   "metadata": {},
   "outputs": [
    {
     "data": {
      "text/plain": [
       "array([0.80343411, 0.87126505, 1.26398935, ..., 1.45714556, 1.09521149,\n",
       "       1.47367347])"
      ]
     },
     "execution_count": 13,
     "metadata": {},
     "output_type": "execute_result"
    }
   ],
   "source": [
    "array_random2=np.random.uniform(0.,1., (10000000))  #estremo,estremo ->mi ritorna un numero in una maniera maticamente casuale, con la stribuzione di probabilità\n",
    "array_random+array_random2"
   ]
  },
  {
   "cell_type": "code",
   "execution_count": 23,
   "id": "fa2608f0-3fed-4a94-bd86-8cf9e8ac7e60",
   "metadata": {},
   "outputs": [
    {
     "data": {
      "text/plain": [
       "3"
      ]
     },
     "execution_count": 23,
     "metadata": {},
     "output_type": "execute_result"
    }
   ],
   "source": [
    "#sorteggia solo numeri interi\n",
    "np.random.randint(0,7) #primo incluso, secondo escluso (se voglio metto terzo paramentro che è il numero dei numeri da sorteggiare e restituisce array)"
   ]
  },
  {
   "cell_type": "markdown",
   "id": "3a6fb161-1d4a-441c-8dca-d994ab9bc284",
   "metadata": {},
   "source": [
    "## Lancio di un dado\n",
    "Simuliamo `n` lanci di un dado a 6 facce."
   ]
  },
  {
   "cell_type": "code",
   "execution_count": 33,
   "id": "b5a73708-2ae8-467b-b33b-1ae4b21042c8",
   "metadata": {},
   "outputs": [
    {
     "data": {
      "text/plain": [
       "array([3, 4, 4, 6, 4, 1, 4, 1, 2, 5], dtype=int32)"
      ]
     },
     "execution_count": 33,
     "metadata": {},
     "output_type": "execute_result"
    }
   ],
   "source": [
    "n=10\n",
    "dice=np.random.randint(1,7,n)\n",
    "dice"
   ]
  },
  {
   "cell_type": "code",
   "execution_count": 34,
   "id": "35877384-110b-4908-9222-08b545aad0d4",
   "metadata": {},
   "outputs": [
    {
     "data": {
      "text/plain": [
       "array([False, False, False,  True, False, False, False, False, False,\n",
       "       False])"
      ]
     },
     "execution_count": 34,
     "metadata": {},
     "output_type": "execute_result"
    }
   ],
   "source": [
    "#quanti 6 abbiamo ottenuto?\n",
    "six= dice == 6   #array nuovo = array confronto\n",
    "six"
   ]
  },
  {
   "cell_type": "code",
   "execution_count": 35,
   "id": "a8ebf946-6810-4154-838d-c1f19df34ca3",
   "metadata": {},
   "outputs": [
    {
     "data": {
      "text/plain": [
       "1"
      ]
     },
     "execution_count": 35,
     "metadata": {},
     "output_type": "execute_result"
    }
   ],
   "source": [
    "np.count_nonzero(six)   #conta i true presenti, perchè false=0"
   ]
  },
  {
   "cell_type": "code",
   "execution_count": 37,
   "id": "2c7b55db-1348-46a4-a856-e76a6b77d8fb",
   "metadata": {},
   "outputs": [],
   "source": [
    "#vinco se faccio 6 oppure 5, quante volte vinco?\n",
    "win=(dice==6)|(dice==5)"
   ]
  },
  {
   "cell_type": "code",
   "execution_count": 39,
   "id": "6b17b511-09a1-4ffa-b79e-468aa59281dc",
   "metadata": {},
   "outputs": [
    {
     "data": {
      "text/plain": [
       "2"
      ]
     },
     "execution_count": 39,
     "metadata": {},
     "output_type": "execute_result"
    }
   ],
   "source": [
    "np.count_nonzero(win)"
   ]
  },
  {
   "cell_type": "markdown",
   "id": "1a0226d6-3fd0-4ae4-af24-9ce919aa2abe",
   "metadata": {},
   "source": [
    "Numpy fa il broadcast quindi le operazioni le svolge elemento per elemento di due o più array"
   ]
  },
  {
   "cell_type": "markdown",
   "id": "e248b97a-d000-4e95-8275-48030413cad5",
   "metadata": {},
   "source": [
    "### Esercizio\n",
    "Alice e Bob lanciano ciascuno un dado per `n` volte, ogni volta vince chi fa il punteggio più alto. Chi vince tra i due?"
   ]
  },
  {
   "cell_type": "code",
   "execution_count": 42,
   "id": "9cf70407-e68a-48b2-9770-358e4c03bae2",
   "metadata": {},
   "outputs": [
    {
     "name": "stdout",
     "output_type": "stream",
     "text": [
      "Alice vince 2 volte\n",
      "Alice pareggia 1 volte\n"
     ]
    }
   ],
   "source": [
    "n=10\n",
    "a=np.random.randint(1,7,n)\n",
    "b=np.random.randint(1,7,n)\n",
    "\n",
    "print(f\"Alice vince {np.count_nonzero(a>b)} volte\") #in azione il broadcast\n",
    "print(f\"Alice pareggia {np.count_nonzero(a==b)} volte\") "
   ]
  },
  {
   "cell_type": "code",
   "execution_count": 46,
   "id": "119cf975-8d8a-4627-b833-3226b0384f05",
   "metadata": {},
   "outputs": [
    {
     "name": "stdout",
     "output_type": "stream",
     "text": [
      "Bob vince 3 volte\n",
      "Alice vince 4 volte\n",
      "Alice pareggia 3 volte\n"
     ]
    }
   ],
   "source": [
    "#tirano due dadi contemporaneamente\n",
    "da=np.random.randint(1,7,n) + np.random.randint(1,7,n)\n",
    "db=np.random.randint(1,7,n) + np.random.randint(1,7,n)\n",
    "\n",
    "print(f\"Bob vince {np.count_nonzero(da<db)} volte\")\n",
    "print(f\"Alice vince {np.count_nonzero(da>db)} volte\") #in azione il broadcast\n",
    "print(f\"Alice pareggia {np.count_nonzero(da==db)} volte\")"
   ]
  },
  {
   "cell_type": "code",
   "execution_count": 47,
   "id": "d4454c47-5e38-4991-9349-ee0520c475cd",
   "metadata": {},
   "outputs": [
    {
     "data": {
      "text/plain": [
       "array([[1, 2, 2, 1, 2, 3, 3, 5, 6, 2],\n",
       "       [1, 1, 5, 4, 3, 2, 3, 6, 2, 4]], dtype=int32)"
      ]
     },
     "execution_count": 47,
     "metadata": {},
     "output_type": "execute_result"
    }
   ],
   "source": [
    "#facciamo con le matrici\n",
    "n=10\n",
    "a=np.random.randint(1,7,(2,n))\n",
    "b=np.random.randint(1,7,(2,n))\n",
    "a"
   ]
  },
  {
   "cell_type": "code",
   "execution_count": 50,
   "id": "fd047265-1cad-4530-97c4-bd72f1a136db",
   "metadata": {},
   "outputs": [
    {
     "data": {
      "text/plain": [
       "array([ 2,  3,  7,  5,  5,  5,  6, 11,  8,  6])"
      ]
     },
     "execution_count": 50,
     "metadata": {},
     "output_type": "execute_result"
    }
   ],
   "source": [
    "np.sum(a, axis=0)  #somma sull'asse zero"
   ]
  },
  {
   "cell_type": "code",
   "execution_count": 51,
   "id": "6a52aea2-5dd9-4219-8bae-6b6c0585aaa9",
   "metadata": {},
   "outputs": [
    {
     "data": {
      "text/plain": [
       "array([False,  True, False, False, False,  True, False,  True,  True,\n",
       "       False])"
      ]
     },
     "execution_count": 51,
     "metadata": {},
     "output_type": "execute_result"
    }
   ],
   "source": [
    "np.sum(a, axis=0) > np.sum(b, axis=0)"
   ]
  },
  {
   "cell_type": "code",
   "execution_count": 62,
   "id": "540e8486-e36e-4a1d-a0dd-8c3e98af89c9",
   "metadata": {},
   "outputs": [],
   "source": [
    "import matplotlib.pyplot as plt\n",
    "n=100\n",
    "a= np.random.randint(1,7,n) + np.random.randint(1,7,n)"
   ]
  },
  {
   "cell_type": "code",
   "execution_count": 63,
   "id": "3166b81e-980f-42c7-85f1-354e58316752",
   "metadata": {},
   "outputs": [
    {
     "data": {
      "text/plain": [
       "array([ 6,  7,  8,  6,  3,  8,  4, 10,  9,  7,  7,  7,  6,  7,  5, 10,  6,\n",
       "        4,  7,  5, 10,  5,  7, 12, 11,  2, 10,  9,  5,  7,  9,  2,  7, 12,\n",
       "        8,  3,  6, 12,  7, 10, 10,  7, 11, 10,  7, 10,  8, 10,  4,  8, 10,\n",
       "       11,  3, 10,  7,  7,  6,  5,  9,  7,  9,  5,  6,  2,  4,  3, 12,  7,\n",
       "        9,  7,  6, 10, 10, 10,  7,  6,  9,  2, 10,  6,  6,  7, 10, 12,  4,\n",
       "        6,  8,  9,  5,  5,  6,  4,  2,  4,  8,  6,  5,  6,  4,  8],\n",
       "      dtype=int32)"
      ]
     },
     "execution_count": 63,
     "metadata": {},
     "output_type": "execute_result"
    }
   ],
   "source": [
    "a"
   ]
  },
  {
   "cell_type": "code",
   "execution_count": 64,
   "id": "fca0edef-dcda-432a-b268-f8131fbffe3b",
   "metadata": {},
   "outputs": [
    {
     "data": {
      "text/plain": [
       "(array([ 5.,  4.,  8.,  9., 15., 19.,  8.,  8., 16.,  3.,  5.]),\n",
       " array([ 2.        ,  2.90909091,  3.81818182,  4.72727273,  5.63636364,\n",
       "         6.54545455,  7.45454545,  8.36363636,  9.27272727, 10.18181818,\n",
       "        11.09090909, 12.        ]),\n",
       " <BarContainer object of 11 artists>)"
      ]
     },
     "execution_count": 64,
     "metadata": {},
     "output_type": "execute_result"
    },
    {
     "data": {
      "image/png": "[encoded data removed]",
      "text/plain": [
       "<Figure size 640x480 with 1 Axes>"
      ]
     },
     "metadata": {},
     "output_type": "display_data"
    }
   ],
   "source": [
    "plt.hist(a,bins=11)  #è un istogramma e mostra la probabilità dei lanci\n",
    "#bins è il numero di colonne del grafico"
   ]
  },
  {
   "cell_type": "code",
   "execution_count": 67,
   "id": "bc4f9a52-6002-4f2a-a45e-a5804d85c5ed",
   "metadata": {},
   "outputs": [
    {
     "data": {
      "text/plain": [
       "array(['Testa', 'Testa', 'Croce', 'Testa', 'Croce'], dtype='<U5')"
      ]
     },
     "execution_count": 67,
     "metadata": {},
     "output_type": "execute_result"
    }
   ],
   "source": [
    "coin= np.random.choice([\"Testa\",\"Croce\"], 5) #è un array di 5 caratteri unicod=stringhe\n",
    "coin"
   ]
  },
  {
   "cell_type": "code",
   "execution_count": 69,
   "id": "df57dbe4-b66c-479e-b455-68cac05ee3eb",
   "metadata": {},
   "outputs": [
    {
     "data": {
      "text/plain": [
       "array([['Croce', 'Croce', 'Testa', 'Croce', 'Testa'],\n",
       "       ['Croce', 'Croce', 'Croce', 'Croce', 'Croce'],\n",
       "       ['Croce', 'Testa', 'Croce', 'Testa', 'Testa'],\n",
       "       ['Testa', 'Croce', 'Croce', 'Croce', 'Testa']], dtype='<U5')"
      ]
     },
     "execution_count": 69,
     "metadata": {},
     "output_type": "execute_result"
    }
   ],
   "source": [
    "np.random.choice([\"Testa\",\"Croce\"], (4,5)) #permette di fare una \"shaik\""
   ]
  },
  {
   "cell_type": "code",
   "execution_count": 72,
   "id": "f00991cf-6acb-4358-8d43-9108ad362293",
   "metadata": {},
   "outputs": [
    {
     "data": {
      "text/plain": [
       "array(['Testa', 'Testa', 'Croce', 'Testa', 'Testa'], dtype='<U5')"
      ]
     },
     "execution_count": 72,
     "metadata": {},
     "output_type": "execute_result"
    }
   ],
   "source": [
    "np.random.choice([\"Testa\",\"Croce\"], 5, p=[0.6,0.4]) #posso scegliere io le possibilità di uscita del risultato"
   ]
  },
  {
   "cell_type": "code",
   "execution_count": null,
   "id": "d8029cd7-0b51-4e70-a26b-71b20ba7c1dc",
   "metadata": {},
   "outputs": [],
   "source": []
  }
 ],
 "metadata": {
  "kernelspec": {
   "display_name": "Python [conda env:base] *",
   "language": "python",
   "name": "conda-base-py"
  },
  "language_info": {
   "codemirror_mode": {
    "name": "ipython",
    "version": 3
   },
   "file_extension": ".py",
   "mimetype": "text/x-python",
   "name": "python",
   "nbconvert_exporter": "python",
   "pygments_lexer": "ipython3",
   "version": "3.13.5"
  }
 },
 "nbformat": 4,
 "nbformat_minor": 5
}
