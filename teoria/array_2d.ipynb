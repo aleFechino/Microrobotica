{
 "cells": [
  {
   "cell_type": "code",
   "execution_count": 30,
   "id": "2d797aed-4df3-4c9a-8ad5-452932b58c83",
   "metadata": {},
   "outputs": [],
   "source": [
    "import numpy as np\n",
    "import matplotlib.pyplot as plt"
   ]
  },
  {
   "cell_type": "code",
   "execution_count": 31,
   "id": "c69379e2-83bc-4d05-b5b3-8f0baf38192e",
   "metadata": {},
   "outputs": [
    {
     "data": {
      "text/plain": [
       "array([[0, 1, 2, 3, 4],\n",
       "       [5, 6, 7, 8, 9]])"
      ]
     },
     "execution_count": 31,
     "metadata": {},
     "output_type": "execute_result"
    }
   ],
   "source": [
    "# axis 0 corrisponde alle righe\n",
    "#axis 1 corrisponde alle colonne\n",
    "matrix =np.arange(10).reshape((2,5))\n",
    "matrix"
   ]
  },
  {
   "cell_type": "code",
   "execution_count": 32,
   "id": "8f5eaa8c-2bbf-4afd-b2d4-4762d9edf6d8",
   "metadata": {},
   "outputs": [
    {
     "data": {
      "text/plain": [
       "dtype('int64')"
      ]
     },
     "execution_count": 32,
     "metadata": {},
     "output_type": "execute_result"
    }
   ],
   "source": [
    "matrix.dtype"
   ]
  },
  {
   "cell_type": "code",
   "execution_count": 33,
   "id": "56449826-0c11-4274-910b-f52156c58cb9",
   "metadata": {},
   "outputs": [
    {
     "data": {
      "text/plain": [
       "(2, 5)"
      ]
     },
     "execution_count": 33,
     "metadata": {},
     "output_type": "execute_result"
    }
   ],
   "source": [
    "matrix.shape"
   ]
  },
  {
   "cell_type": "code",
   "execution_count": 34,
   "id": "83163816-67ac-48d3-88f6-4a1a6fb6f843",
   "metadata": {},
   "outputs": [
    {
     "data": {
      "text/plain": [
       "array([0, 1, 2, 3, 4, 5, 6, 7])"
      ]
     },
     "execution_count": 34,
     "metadata": {},
     "output_type": "execute_result"
    }
   ],
   "source": [
    "#se ho una sola riga mi legge solo le colonne\n",
    "#axis 0 corrisponde alle colonne\n",
    "array=np.arange(8)\n",
    "array"
   ]
  },
  {
   "cell_type": "code",
   "execution_count": 35,
   "id": "fafd9259-214e-4f71-a206-93cc2aea4e12",
   "metadata": {},
   "outputs": [
    {
     "data": {
      "text/plain": [
       "(8,)"
      ]
     },
     "execution_count": 35,
     "metadata": {},
     "output_type": "execute_result"
    }
   ],
   "source": [
    "array.shape"
   ]
  },
  {
   "cell_type": "code",
   "execution_count": 36,
   "id": "4974842e-cc83-4fad-abe7-92b4bf0d6df4",
   "metadata": {},
   "outputs": [
    {
     "data": {
      "text/plain": [
       "array([[0, 1, 2, 3, 4],\n",
       "       [5, 6, 7, 8, 9]])"
      ]
     },
     "execution_count": 36,
     "metadata": {},
     "output_type": "execute_result"
    }
   ],
   "source": [
    "matrix =np.arange(10).reshape((2,-1))\n",
    "matrix"
   ]
  },
  {
   "cell_type": "code",
   "execution_count": 37,
   "id": "ad8a8acc-b2a1-4894-9836-bb0375296148",
   "metadata": {},
   "outputs": [
    {
     "data": {
      "text/plain": [
       "array([[[0.10548041, 0.81149107, 0.30404314, 0.01231224, 0.30062768],\n",
       "        [0.66125715, 0.90836094, 0.53452563, 0.22955179, 0.91920141],\n",
       "        [0.52792959, 0.0319185 , 0.93347749, 0.46762427, 0.45553896]],\n",
       "\n",
       "       [[0.64529726, 0.67574628, 0.40532639, 0.54323831, 0.05185412],\n",
       "        [0.18885709, 0.03827145, 0.09156724, 0.83580908, 0.76589319],\n",
       "        [0.91351336, 0.84015318, 0.8218136 , 0.17053713, 0.58477421]],\n",
       "\n",
       "       [[0.61702842, 0.75119325, 0.84952563, 0.87126695, 0.73894559],\n",
       "        [0.38474817, 0.28769633, 0.05620089, 0.50603805, 0.20095344],\n",
       "        [0.73568822, 0.81406019, 0.40847585, 0.82873943, 0.42155183]]])"
      ]
     },
     "execution_count": 37,
     "metadata": {},
     "output_type": "execute_result"
    }
   ],
   "source": [
    "#array di 3 dimensioni\n",
    "array3d= np.random.uniform(0.,1., (3,3,5))\n",
    "array3d"
   ]
  },
  {
   "cell_type": "markdown",
   "id": "04518e77-ccf4-4f57-8f06-887f23ffeb4c",
   "metadata": {},
   "source": [
    "## Indicizzazione degli array\n",
    "### indicizzazione Python"
   ]
  },
  {
   "cell_type": "code",
   "execution_count": 38,
   "id": "3b91d581-d5e1-46f3-9a9c-7fb5f256af39",
   "metadata": {},
   "outputs": [
    {
     "data": {
      "text/plain": [
       "array([0, 1, 2, 3, 4, 5, 6, 7])"
      ]
     },
     "execution_count": 38,
     "metadata": {},
     "output_type": "execute_result"
    }
   ],
   "source": [
    "array1d= np.arange(8)\n",
    "array1d"
   ]
  },
  {
   "cell_type": "code",
   "execution_count": 39,
   "id": "52a12792-338a-40f0-b0ac-f33bb7335268",
   "metadata": {},
   "outputs": [
    {
     "data": {
      "text/plain": [
       "np.int64(4)"
      ]
     },
     "execution_count": 39,
     "metadata": {},
     "output_type": "execute_result"
    }
   ],
   "source": [
    "array1d[4] #indicizzazione Python"
   ]
  },
  {
   "cell_type": "code",
   "execution_count": 40,
   "id": "8341f262-8b45-4c1f-bd40-0835f270d85a",
   "metadata": {},
   "outputs": [
    {
     "data": {
      "text/plain": [
       "array([2, 4, 6])"
      ]
     },
     "execution_count": 40,
     "metadata": {},
     "output_type": "execute_result"
    }
   ],
   "source": [
    "array1d[2:7:2] #slincing Python"
   ]
  },
  {
   "cell_type": "code",
   "execution_count": 41,
   "id": "5e9c1acd-4194-4e0b-9300-c0685df0fb7c",
   "metadata": {},
   "outputs": [
    {
     "data": {
      "text/plain": [
       "array([ 0,  1, 99,  3, 99,  5, 99,  7])"
      ]
     },
     "execution_count": 41,
     "metadata": {},
     "output_type": "execute_result"
    }
   ],
   "source": [
    "#PRIMA NOVITA'\n",
    "array1d[2:7:2]= 99 #broadcast\n",
    "array1d"
   ]
  },
  {
   "cell_type": "markdown",
   "id": "a657bd88-58e3-4fe1-94de-7c4a63ba8c70",
   "metadata": {},
   "source": [
    "## Indicizzazione booleana"
   ]
  },
  {
   "cell_type": "code",
   "execution_count": 42,
   "id": "6a7ce73d-3bca-43bb-8d5b-b9dace05e05f",
   "metadata": {},
   "outputs": [
    {
     "data": {
      "text/plain": [
       "array([ 0,  1, 99,  3, 99,  5, 99,  7])"
      ]
     },
     "execution_count": 42,
     "metadata": {},
     "output_type": "execute_result"
    }
   ],
   "source": [
    "# gli array booleani possono essere usati come indici\n",
    "array1d"
   ]
  },
  {
   "cell_type": "code",
   "execution_count": 43,
   "id": "45a9891f-4995-4f5d-8710-c973750f2e80",
   "metadata": {},
   "outputs": [
    {
     "data": {
      "text/plain": [
       "array([False, False,  True, False,  True, False,  True, False])"
      ]
     },
     "execution_count": 43,
     "metadata": {},
     "output_type": "execute_result"
    }
   ],
   "source": [
    "bool_index= array1d == 99\n",
    "bool_index"
   ]
  },
  {
   "cell_type": "code",
   "execution_count": 44,
   "id": "6aa1cf2a-67e1-4be6-8267-7dc57ee7bcd0",
   "metadata": {},
   "outputs": [
    {
     "data": {
      "text/plain": [
       "array([   0,    1, 1000,    3, 1000,    5, 1000,    7])"
      ]
     },
     "execution_count": 44,
     "metadata": {},
     "output_type": "execute_result"
    }
   ],
   "source": [
    "# all'indice true sostituisco il valore con il 1000\n",
    "array1d[bool_index]= 1000\n",
    "array1d"
   ]
  },
  {
   "cell_type": "markdown",
   "id": "498cabb8-d087-49a3-8891-f0e9db568b21",
   "metadata": {},
   "source": [
    "`array1d[bool_index]` in NumPy si chiama **view**"
   ]
  },
  {
   "cell_type": "code",
   "execution_count": 45,
   "id": "c81c9806-df6c-49b7-8881-f8ffed23ce37",
   "metadata": {},
   "outputs": [
    {
     "data": {
      "text/plain": [
       "array([[1., 1., 1., 1., 1., 1., 1., 1.],\n",
       "       [1., 1., 1., 1., 1., 1., 1., 1.],\n",
       "       [1., 1., 1., 1., 1., 1., 1., 1.],\n",
       "       [1., 1., 1., 1., 1., 1., 1., 1.],\n",
       "       [1., 1., 1., 1., 1., 1., 1., 1.],\n",
       "       [1., 1., 1., 1., 1., 1., 1., 1.],\n",
       "       [1., 1., 1., 1., 1., 1., 1., 1.],\n",
       "       [1., 1., 1., 1., 1., 1., 1., 1.]])"
      ]
     },
     "execution_count": 45,
     "metadata": {},
     "output_type": "execute_result"
    }
   ],
   "source": [
    "matrix_ones= np.ones((8,8))\n",
    "matrix_ones"
   ]
  },
  {
   "cell_type": "code",
   "execution_count": 48,
   "id": "ecb221ff-ca32-446b-9e41-8f3b10e2312d",
   "metadata": {},
   "outputs": [],
   "source": [
    "matrix_ones[::2] =0"
   ]
  },
  {
   "cell_type": "code",
   "execution_count": 50,
   "id": "0a148853-bc15-45bb-90f4-b47225dea62c",
   "metadata": {},
   "outputs": [
    {
     "data": {
      "text/plain": [
       "<matplotlib.image.AxesImage at 0x1777712fc50>"
      ]
     },
     "execution_count": 50,
     "metadata": {},
     "output_type": "execute_result"
    },
    {
     "data": {
      "image/png": "[encoded data removed]",
      "text/plain": [
       "<Figure size 640x480 with 1 Axes>"
      ]
     },
     "metadata": {},
     "output_type": "display_data"
    }
   ],
   "source": [
    "plt.imshow(matrix_ones, cmap=\"Greys\")"
   ]
  },
  {
   "cell_type": "code",
   "execution_count": 51,
   "id": "b507292c-172b-41cc-a6a4-1e238652457b",
   "metadata": {},
   "outputs": [
    {
     "data": {
      "text/plain": [
       "array([[0., 1., 0., 1., 0., 1., 0., 1.],\n",
       "       [0., 1., 0., 1., 0., 1., 0., 1.],\n",
       "       [0., 1., 0., 1., 0., 1., 0., 1.],\n",
       "       [0., 1., 0., 1., 0., 1., 0., 1.],\n",
       "       [0., 1., 0., 1., 0., 1., 0., 1.],\n",
       "       [0., 1., 0., 1., 0., 1., 0., 1.],\n",
       "       [0., 1., 0., 1., 0., 1., 0., 1.],\n",
       "       [0., 1., 0., 1., 0., 1., 0., 1.]])"
      ]
     },
     "execution_count": 51,
     "metadata": {},
     "output_type": "execute_result"
    }
   ],
   "source": [
    "matrix_ones= np.ones((8,8))\n",
    "matrix_ones[:,::2]=0   # i : soli vuol dire tutto\n",
    "matrix_ones"
   ]
  },
  {
   "cell_type": "code",
   "execution_count": 52,
   "id": "03aa32e9-300f-48a9-8c49-92eb33771080",
   "metadata": {},
   "outputs": [
    {
     "data": {
      "text/plain": [
       "<matplotlib.image.AxesImage at 0x17776ebbc50>"
      ]
     },
     "execution_count": 52,
     "metadata": {},
     "output_type": "execute_result"
    },
    {
     "data": {
      "image/png": "[encoded data removed]",
      "text/plain": [
       "<Figure size 640x480 with 1 Axes>"
      ]
     },
     "metadata": {},
     "output_type": "display_data"
    }
   ],
   "source": [
    "plt.imshow(matrix_ones, cmap=\"Greys\")"
   ]
  },
  {
   "cell_type": "code",
   "execution_count": 94,
   "id": "e1204315-2dbb-4929-9a5e-45465b77de39",
   "metadata": {},
   "outputs": [
    {
     "data": {
      "text/plain": [
       "array([[0., 1., 0., 1., 0., 1., 0., 1.],\n",
       "       [1., 0., 1., 0., 1., 0., 1., 0.],\n",
       "       [0., 1., 0., 1., 0., 1., 0., 1.],\n",
       "       [1., 0., 1., 0., 1., 0., 1., 0.],\n",
       "       [0., 1., 0., 1., 0., 1., 0., 1.],\n",
       "       [1., 0., 1., 0., 1., 0., 1., 0.],\n",
       "       [0., 1., 0., 1., 0., 1., 0., 1.],\n",
       "       [1., 0., 1., 0., 1., 0., 1., 0.]])"
      ]
     },
     "execution_count": 94,
     "metadata": {},
     "output_type": "execute_result"
    }
   ],
   "source": [
    "matrix_ones= np.ones((8,8))\n",
    "matrix_ones[::2, ::2]=0\n",
    "matrix_ones[1::2, 1::2]=0\n",
    "matrix_ones"
   ]
  },
  {
   "cell_type": "code",
   "execution_count": 95,
   "id": "f7daed25-0692-4299-aa98-20fbec292e2a",
   "metadata": {},
   "outputs": [
    {
     "data": {
      "text/plain": [
       "<matplotlib.image.AxesImage at 0x17777fff110>"
      ]
     },
     "execution_count": 95,
     "metadata": {},
     "output_type": "execute_result"
    },
    {
     "data": {
      "image/png": "[encoded data removed]",
      "text/plain": [
       "<Figure size 640x480 with 1 Axes>"
      ]
     },
     "metadata": {},
     "output_type": "display_data"
    }
   ],
   "source": [
    "plt.imshow(matrix_ones, cmap=\"Greys\")"
   ]
  },
  {
   "cell_type": "code",
   "execution_count": null,
   "id": "9a722efe-d6d8-45e0-9891-456001cc95d2",
   "metadata": {},
   "outputs": [],
   "source": []
  }
 ],
 "metadata": {
  "kernelspec": {
   "display_name": "Python [conda env:base] *",
   "language": "python",
   "name": "conda-base-py"
  },
  "language_info": {
   "codemirror_mode": {
    "name": "ipython",
    "version": 3
   },
   "file_extension": ".py",
   "mimetype": "text/x-python",
   "name": "python",
   "nbconvert_exporter": "python",
   "pygments_lexer": "ipython3",
   "version": "3.13.5"
  }
 },
 "nbformat": 4,
 "nbformat_minor": 5
}
